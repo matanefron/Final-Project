{
 "cells": [
  {
   "cell_type": "markdown",
   "metadata": {},
   "source": [
    "https://catalog.data.gov/dataset/3-year-recidivism-for-offenders-released-from-prison"
   ]
  },
  {
   "cell_type": "code",
   "execution_count": 256,
   "metadata": {
    "collapsed": false
   },
   "outputs": [],
   "source": [
    "import pandas as pd\n",
    "import numpy as np\n",
    "import json\n",
    "import matplotlib.pyplot as plt\n",
    "import seaborn as sns\n",
    "from sklearn import preprocessing, neighbors, grid_search, cross_validation\n",
    "from sklearn import model_selection\n",
    "\n",
    "\n",
    "sns.set(style=\"whitegrid\", color_codes=True)\n",
    "np.random.seed(sum(map(ord, \"categorical\")))\n",
    "%matplotlib inline\n",
    "plt.style.use('ggplot')\n",
    "\n",
    "\n"
   ]
  },
  {
   "cell_type": "code",
   "execution_count": 257,
   "metadata": {
    "collapsed": false
   },
   "outputs": [],
   "source": [
    "# read in dataset\n",
    "df = pd.read_csv('/Users/matanefron/Downloads/3-Year_Recidivism_for_Offenders_Released_from_Prison.csv')"
   ]
  },
  {
   "cell_type": "code",
   "execution_count": 258,
   "metadata": {
    "collapsed": false
   },
   "outputs": [],
   "source": [
    "#Set recidivism to true or false\n",
    "df['Recidivism'] = df['Recidivism - Return to Prison']=='Yes'\n",
    "#Change it to binary\n",
    "df.Recidivism = df.Recidivism.astype(int)\n",
    "\n"
   ]
  },
  {
   "cell_type": "code",
   "execution_count": 259,
   "metadata": {
    "collapsed": false,
    "scrolled": true
   },
   "outputs": [
    {
     "data": {
      "text/html": [
       "<div>\n",
       "<table border=\"1\" class=\"dataframe\">\n",
       "  <thead>\n",
       "    <tr style=\"text-align: right;\">\n",
       "      <th></th>\n",
       "      <th>Offender</th>\n",
       "      <th>Recidivism Reporting Year</th>\n",
       "      <th>Race - Ethnicity</th>\n",
       "      <th>Sex</th>\n",
       "      <th>Age At Release</th>\n",
       "      <th>Convicting Offense Classification</th>\n",
       "      <th>Convicting Offense Type</th>\n",
       "      <th>Convicting Offense Subtype</th>\n",
       "      <th>Release Type</th>\n",
       "      <th>Main Supervising District</th>\n",
       "      <th>Recidivism - Return to Prison</th>\n",
       "      <th>Recidivism Type</th>\n",
       "      <th>Days to Recidivism</th>\n",
       "      <th>New Conviction Offense Classification</th>\n",
       "      <th>New Conviction Offense Type</th>\n",
       "      <th>New Conviction Offense Sub Type</th>\n",
       "      <th>Part of Target Population</th>\n",
       "      <th>Recidivism</th>\n",
       "    </tr>\n",
       "  </thead>\n",
       "  <tbody>\n",
       "    <tr>\n",
       "      <th>0</th>\n",
       "      <td>1</td>\n",
       "      <td>FY13</td>\n",
       "      <td>White - Non-Hispanic</td>\n",
       "      <td>M</td>\n",
       "      <td>Under 25</td>\n",
       "      <td>D Felony</td>\n",
       "      <td>Violent</td>\n",
       "      <td>Assault</td>\n",
       "      <td>Parole</td>\n",
       "      <td>4JD</td>\n",
       "      <td>Yes</td>\n",
       "      <td>Tech</td>\n",
       "      <td>16.0</td>\n",
       "      <td>NaN</td>\n",
       "      <td>NaN</td>\n",
       "      <td>NaN</td>\n",
       "      <td>Yes</td>\n",
       "      <td>1</td>\n",
       "    </tr>\n",
       "  </tbody>\n",
       "</table>\n",
       "</div>"
      ],
      "text/plain": [
       "   Offender Recidivism Reporting Year      Race - Ethnicity Sex  \\\n",
       "0         1                      FY13  White - Non-Hispanic   M   \n",
       "\n",
       "  Age At Release  Convicting Offense Classification Convicting Offense Type  \\\n",
       "0        Under 25                          D Felony                 Violent   \n",
       "\n",
       "  Convicting Offense Subtype Release Type Main Supervising District  \\\n",
       "0                    Assault       Parole                       4JD   \n",
       "\n",
       "  Recidivism - Return to Prison Recidivism Type  Days to Recidivism  \\\n",
       "0                           Yes            Tech                16.0   \n",
       "\n",
       "  New Conviction Offense Classification New Conviction Offense Type  \\\n",
       "0                                   NaN                         NaN   \n",
       "\n",
       "  New Conviction Offense Sub Type Part of Target Population  Recidivism  \n",
       "0                             NaN                       Yes           1  "
      ]
     },
     "execution_count": 259,
     "metadata": {},
     "output_type": "execute_result"
    }
   ],
   "source": [
    "df.head(1)"
   ]
  },
  {
   "cell_type": "code",
   "execution_count": 261,
   "metadata": {
    "collapsed": false
   },
   "outputs": [
    {
     "data": {
      "image/png": "[encoded data removed]",
      "text/plain": [
       "<matplotlib.figure.Figure at 0x11009b050>"
      ]
     },
     "metadata": {},
     "output_type": "display_data"
    }
   ],
   "source": [
    "ax = plt.axes()\n",
    "sns.countplot(x=\"Recidivism\", data=df, palette=\"Greens_d\")\n",
    "ax.set_title('roughly 1 out of 3 released inmates go back to prison')\n",
    "plt.show()\n",
    "\n",
    "\n",
    "#1963"
   ]
  },
  {
   "cell_type": "code",
   "execution_count": 262,
   "metadata": {
    "collapsed": false
   },
   "outputs": [
    {
     "data": {
      "image/png": "[encoded data removed]",
      "text/plain": [
       "<matplotlib.figure.Figure at 0x1106bd710>"
      ]
     },
     "metadata": {},
     "output_type": "display_data"
    }
   ],
   "source": [
    "ax = plt.axes()\n",
    "sns.countplot(x=\"Recidivism Type\", data=df, palette=\"Greens_d\")\n",
    "ax.set_title('With a third going back to jail due to technicality (i.e Parole violation')\n",
    "plt.show()\n"
   ]
  },
  {
   "cell_type": "code",
   "execution_count": 263,
   "metadata": {
    "collapsed": false
   },
   "outputs": [],
   "source": [
    "# Create two new tables with Recidivism Y and for ease of future calcs\n",
    "df_rec_y = df[df['Recidivism']==1]\n",
    "df_rec_n = df[df['Recidivism']==0]\n",
    "\n"
   ]
  },
  {
   "cell_type": "code",
   "execution_count": 264,
   "metadata": {
    "collapsed": false,
    "scrolled": true
   },
   "outputs": [
    {
     "name": "stdout",
     "output_type": "stream",
     "text": [
      "Count Recidivism by Race\n",
      "Race - Ethnicity\n",
      "American Indian or Alaska Native - Hispanic           14\n",
      "American Indian or Alaska Native - Non-Hispanic      318\n",
      "Asian or Pacific Islander - Hispanic                   2\n",
      "Asian or Pacific Islander - Non-Hispanic             126\n",
      "Black -                                                2\n",
      "Black - Hispanic                                      26\n",
      "Black - Non-Hispanic                                4078\n",
      "N/A -                                                  4\n",
      "White -                                               11\n",
      "White - Hispanic                                    1030\n",
      "White - Non-Hispanic                               11419\n",
      "Name: Recidivism, dtype: int64\n"
     ]
    }
   ],
   "source": [
    "# Recidivism by Race\n",
    "\n",
    "print \"Count Recidivism by Race\"\n",
    "\n",
    "print df.groupby('Race - Ethnicity')['Recidivism'].count()\n",
    "\n"
   ]
  },
  {
   "cell_type": "code",
   "execution_count": 265,
   "metadata": {
    "collapsed": false
   },
   "outputs": [],
   "source": [
    "#Reduce race categories\n",
    "\n",
    "def classify_race(x):\n",
    "    if x == 'White - ' or x=='White - Non-Hispanic':\n",
    "        return 'white'\n",
    "    elif x == 'Black - ' or x=='Black - Non-Hispanic' :\n",
    "        return 'black'\n",
    "    elif x == 'N/A -' or x=='American Indian or Alaska Native - Non-Hispanic':\n",
    "        return 'other'\n",
    "    elif x == 'Asian or Pacific Islander - Non-Hispanic':\n",
    "        return 'other'\n",
    "    else:\n",
    "        return 'Hispanic'\n",
    "\n"
   ]
  },
  {
   "cell_type": "code",
   "execution_count": 266,
   "metadata": {
    "collapsed": false
   },
   "outputs": [
    {
     "name": "stderr",
     "output_type": "stream",
     "text": [
      "/Users/matanefron/anaconda/lib/python2.7/site-packages/ipykernel/__main__.py:4: SettingWithCopyWarning: \n",
      "A value is trying to be set on a copy of a slice from a DataFrame.\n",
      "Try using .loc[row_indexer,col_indexer] = value instead\n",
      "\n",
      "See the caveats in the documentation: http://pandas.pydata.org/pandas-docs/stable/indexing.html#indexing-view-versus-copy\n",
      "/Users/matanefron/anaconda/lib/python2.7/site-packages/ipykernel/__main__.py:5: SettingWithCopyWarning: \n",
      "A value is trying to be set on a copy of a slice from a DataFrame.\n",
      "Try using .loc[row_indexer,col_indexer] = value instead\n",
      "\n",
      "See the caveats in the documentation: http://pandas.pydata.org/pandas-docs/stable/indexing.html#indexing-view-versus-copy\n"
     ]
    }
   ],
   "source": [
    "#Map back \n",
    "df['Race'] = df['Race - Ethnicity'].map(classify_race)\n",
    "\n",
    "df_rec_y['Race'] = df_rec_y['Race - Ethnicity'].map(classify_race)\n",
    "df_rec_n['Race'] = df_rec_n['Race - Ethnicity'].map(classify_race)"
   ]
  },
  {
   "cell_type": "code",
   "execution_count": 267,
   "metadata": {
    "collapsed": false
   },
   "outputs": [
    {
     "name": "stdout",
     "output_type": "stream",
     "text": [
      "Axes(0.125,0.125;0.775x0.755)\n",
      "% Recidivism by Gender\n",
      "Sex\n",
      "F    27.0%\n",
      "M    32.0%\n",
      "Name: Recidivism, dtype: object\n"
     ]
    },
    {
     "data": {
      "image/png": "[encoded data removed]",
      "text/plain": [
       "<matplotlib.figure.Figure at 0x111e6e9d0>"
      ]
     },
     "metadata": {},
     "output_type": "display_data"
    }
   ],
   "source": [
    "ax = plt.axes()\n",
    "print sns.countplot(x=\"Sex\",hue=\"Recidivism\", data=df, palette=\"Greens_d\");\n",
    "ax.set_title('Females are slightly less likley to recidivate vs. Men')\n",
    "\n",
    "\n",
    "print \"% Recidivism by Gender\" \n",
    "print np.round(100*pd.to_numeric(df_rec_y.groupby('Sex')['Recidivism'].count(),errors='coerce')/\n",
    "df.groupby('Sex')['Recidivism'].count()).astype(str) + \"%\"\n",
    "\n",
    "plt.show()\n",
    " "
   ]
  },
  {
   "cell_type": "code",
   "execution_count": 268,
   "metadata": {
    "collapsed": false
   },
   "outputs": [
    {
     "name": "stdout",
     "output_type": "stream",
     "text": [
      "% Recidivism by Race\n",
      "Race\n",
      "Hispanic    19.0%\n",
      "black       33.0%\n",
      "other       34.0%\n",
      "white       32.0%\n",
      "Name: Recidivism, dtype: object\n"
     ]
    },
    {
     "data": {
      "image/png": "[encoded data removed]",
      "text/plain": [
       "<matplotlib.figure.Figure at 0x111e6ed90>"
      ]
     },
     "metadata": {},
     "output_type": "display_data"
    }
   ],
   "source": [
    "ax = plt.axes()\n",
    "sns.countplot(x=\"Race\",hue=\"Recidivism\",order =('white','black','Hispanic','other'),data=df, palette=\"Greens_d\");\n",
    "ax.set_title('Hispanic/Latin are less likely to recidivate vs. Whites and Blacks/African Americans')\n",
    "\n",
    "print \"% Recidivism by Race\" \n",
    "print np.round(100*(pd.to_numeric(df_rec_y.groupby('Race')['Recidivism'].count(),errors='coerce')\n",
    "           /df.groupby('Race')['Recidivism'].count())).astype(str) + '%'\n",
    "plt.show()\n"
   ]
  },
  {
   "cell_type": "code",
   "execution_count": 271,
   "metadata": {
    "collapsed": false
   },
   "outputs": [
    {
     "name": "stdout",
     "output_type": "stream",
     "text": [
      "% Recidivism by Age of Release\n",
      "Convicting Offense Type\n",
      "Drug            34.0%\n",
      "Other           43.0%\n",
      "Property        35.0%\n",
      "Public Order    28.0%\n",
      "Violent         25.0%\n",
      "Name: Recidivism, dtype: object\n"
     ]
    },
    {
     "data": {
      "image/png": "[encoded data removed]",
      "text/plain": [
       "<matplotlib.figure.Figure at 0x11124d590>"
      ]
     },
     "metadata": {},
     "output_type": "display_data"
    }
   ],
   "source": [
    "ax = plt.axes()\n",
    "sns.countplot(x=\"Convicting Offense Type\",hue=\"Recidivism\", data=df, palette=\"Greens_d\");\n",
    "\n",
    "ax.set_title('Beside Other (small sample) Drugs and Property offenses are more correlated with Recidivism')\n",
    "\n",
    "print \"% Recidivism by Age of Release\" \n",
    "print np.round(100*pd.to_numeric(df_rec_y.groupby('Convicting Offense Type')['Recidivism'].count(),errors='coerce')\n",
    "                    /df.groupby('Convicting Offense Type')['Recidivism'].count()).astype(str)+ \"%\"\n",
    "\n",
    "\n",
    "plt.show()"
   ]
  },
  {
   "cell_type": "code",
   "execution_count": 274,
   "metadata": {
    "collapsed": false
   },
   "outputs": [
    {
     "name": "stdout",
     "output_type": "stream",
     "text": [
      "Recidivism by Gender X Offense Type\n"
     ]
    },
    {
     "data": {
      "image/png": "[encoded data removed]",
      "text/plain": [
       "<matplotlib.figure.Figure at 0x10fb87610>"
      ]
     },
     "metadata": {},
     "output_type": "display_data"
    }
   ],
   "source": [
    "print \"Recidivism by Gender X Offense Type\"\n",
    "\n",
    "sns.factorplot(\n",
    "    col= 'Sex',\n",
    "    x = 'Convicting Offense Type',\n",
    "    hue = 'Recidivism',\n",
    "    data=df,\n",
    "    kind='count',\n",
    ")\n",
    "\n",
    "plt.show()\n",
    "\n"
   ]
  },
  {
   "cell_type": "code",
   "execution_count": 269,
   "metadata": {
    "collapsed": false
   },
   "outputs": [
    {
     "name": "stdout",
     "output_type": "stream",
     "text": [
      "% Recidivism by Age of Release\n",
      "Age At Release \n",
      "25-34           33.0%\n",
      "35-44           31.0%\n",
      "45-54           27.0%\n",
      "55 and Older    19.0%\n",
      "Under 25        37.0%\n",
      "Name: Recidivism, dtype: object\n"
     ]
    },
    {
     "data": {
      "image/png": "[encoded data removed]",
      "text/plain": [
       "<matplotlib.figure.Figure at 0x11367ae50>"
      ]
     },
     "metadata": {},
     "output_type": "display_data"
    }
   ],
   "source": [
    "ax = plt.axes()\n",
    "sns.countplot(x=\"Age At Release \",hue=\"Recidivism\",order=('Under 25','25-34','35-44','45-54','55 and Older'), data=df, palette=\"Greens_d\");\n",
    "\n",
    "ax.set_title('The younger you are the more likely you\\'ll recidivate')\n",
    "\n",
    "print \"% Recidivism by Age of Release\" \n",
    "print np.round(100*pd.to_numeric(df_rec_y.groupby('Age At Release ')['Recidivism'].count(),errors='coerce')\n",
    "                    /df.groupby('Age At Release ')['Recidivism'].count()).astype(str)+ \"%\"\n",
    "\n",
    "\n",
    "plt.show()"
   ]
  },
  {
   "cell_type": "code",
   "execution_count": 270,
   "metadata": {
    "collapsed": false
   },
   "outputs": [
    {
     "name": "stdout",
     "output_type": "stream",
     "text": [
      "Females are at higher risk of Recidivism between 25-44 vs. Male population with highest risk at under 25\n"
     ]
    },
    {
     "data": {
      "image/png": "[encoded data removed]",
      "text/plain": [
       "<matplotlib.figure.Figure at 0x10fa90cd0>"
      ]
     },
     "metadata": {},
     "output_type": "display_data"
    },
    {
     "name": "stdout",
     "output_type": "stream",
     "text": [
      "% Recidivism by Sex X Age of Release\n"
     ]
    },
    {
     "data": {
      "text/plain": [
       "Sex  Age At Release \n",
       "F    25-34              28.0%\n",
       "     35-44              29.0%\n",
       "     45-54              23.0%\n",
       "     55 and Older       14.0%\n",
       "     Under 25           25.0%\n",
       "M    25-34              34.0%\n",
       "     35-44              32.0%\n",
       "     45-54              28.0%\n",
       "     55 and Older       19.0%\n",
       "     Under 25           38.0%\n",
       "Name: Recidivism, dtype: object"
      ]
     },
     "execution_count": 270,
     "metadata": {},
     "output_type": "execute_result"
    }
   ],
   "source": [
    "print \"Females are at higher risk of Recidivism between 25-44 vs. Male population with highest risk at under 25\"\n",
    "sns.factorplot(\n",
    "    col= 'Sex',\n",
    "    x='Age At Release ',\n",
    "    hue = 'Recidivism',\n",
    "    order=('Under 25','25-34','35-44','45-54','55 and Older'),\n",
    "    data=df,\n",
    "    kind='count',\n",
    ")\n",
    "\n",
    "plt.show()\n",
    "\n",
    "\n",
    "print '% Recidivism by Sex X Age of Release'\n",
    "\n",
    "dfy =pd.to_numeric(df_rec_y.groupby(['Sex','Age At Release '])['Recidivism'].count(),errors='coerce')\n",
    "dfn = df.groupby(['Sex','Age At Release '])['Recidivism'].count()\n",
    "\n",
    "np.round(100*dfy/dfn).astype(str) + \"%\"\n",
    "\n",
    "\n"
   ]
  },
  {
   "cell_type": "code",
   "execution_count": 21,
   "metadata": {
    "collapsed": false
   },
   "outputs": [
    {
     "name": "stdout",
     "output_type": "stream",
     "text": [
      "Recidivism by Offense type X Race\n"
     ]
    },
    {
     "data": {
      "image/png": "[encoded data removed]",
      "text/plain": [
       "<matplotlib.figure.Figure at 0x110de8310>"
      ]
     },
     "metadata": {},
     "output_type": "display_data"
    },
    {
     "name": "stdout",
     "output_type": "stream",
     "text": [
      "% Recidivism by Sex X Age of Release\n"
     ]
    },
    {
     "data": {
      "text/plain": [
       "Race      Convicting Offense Type\n",
       "Hispanic  Drug                       18.0%\n",
       "          Other                      32.0%\n",
       "          Property                   24.0%\n",
       "          Public Order               23.0%\n",
       "          Violent                    14.0%\n",
       "black     Drug                       33.0%\n",
       "          Other                      44.0%\n",
       "          Property                   34.0%\n",
       "          Public Order               33.0%\n",
       "          Violent                    27.0%\n",
       "other     Drug                       32.0%\n",
       "          Other                      62.0%\n",
       "          Property                   42.0%\n",
       "          Public Order               37.0%\n",
       "          Violent                    19.0%\n",
       "white     Drug                       36.0%\n",
       "          Other                      43.0%\n",
       "          Property                   36.0%\n",
       "          Public Order               26.0%\n",
       "          Violent                    25.0%\n",
       "Name: Recidivism, dtype: object"
      ]
     },
     "execution_count": 21,
     "metadata": {},
     "output_type": "execute_result"
    }
   ],
   "source": [
    "print \"Recidivism by Offense type X Race\"\n",
    "\n",
    "sns.factorplot(\n",
    "    col= 'Race',\n",
    "    x='Convicting Offense Type',\n",
    "    hue = 'Recidivism',\n",
    "    data=df,\n",
    "    kind='count',\n",
    ")\n",
    "\n",
    "plt.show()\n",
    "\n",
    "print '% Recidivism by Sex X Age of Release'\n",
    "\n",
    "dfy2 =pd.to_numeric(df_rec_y.groupby(['Race','Convicting Offense Type'])['Recidivism'].count(),errors='coerce')\n",
    "dfn2 = df.groupby(['Race','Convicting Offense Type'])['Recidivism'].count()\n",
    "\n",
    "np.round(100*dfy2/dfn2).astype(str) + \"%\"\n"
   ]
  },
  {
   "cell_type": "code",
   "execution_count": 22,
   "metadata": {
    "collapsed": false
   },
   "outputs": [
    {
     "name": "stdout",
     "output_type": "stream",
     "text": [
      "Recidivism by Offense type X Age\n"
     ]
    },
    {
     "data": {
      "image/png": "[encoded data removed]",
      "text/plain": [
       "<matplotlib.figure.Figure at 0x10f9cff90>"
      ]
     },
     "metadata": {},
     "output_type": "display_data"
    }
   ],
   "source": [
    "print \"Recidivism by Offense type X Age\"\n",
    "\n",
    "sns.factorplot(\n",
    "    col= 'Convicting Offense Type',\n",
    "    x = 'Age At Release ',\n",
    "    hue = 'Recidivism',\n",
    "    order=('Under 25','25-34','35-44','45-54','55 and Older'),\n",
    "    data=df,\n",
    "    kind='count',\n",
    ")\n",
    "\n",
    "plt.show()\n",
    "\n"
   ]
  },
  {
   "cell_type": "code",
   "execution_count": 23,
   "metadata": {
    "collapsed": false
   },
   "outputs": [
    {
     "data": {
      "text/html": [
       "<div>\n",
       "<table border=\"1\" class=\"dataframe\">\n",
       "  <thead>\n",
       "    <tr>\n",
       "      <th></th>\n",
       "      <th>Recidivism</th>\n",
       "    </tr>\n",
       "    <tr>\n",
       "      <th></th>\n",
       "      <th>size</th>\n",
       "    </tr>\n",
       "    <tr>\n",
       "      <th>Release Type</th>\n",
       "      <th></th>\n",
       "    </tr>\n",
       "  </thead>\n",
       "  <tbody>\n",
       "    <tr>\n",
       "      <th>Discharged - Expiration of Sentence</th>\n",
       "      <td>1215</td>\n",
       "    </tr>\n",
       "    <tr>\n",
       "      <th>Discharged – End of Sentence</th>\n",
       "      <td>5039</td>\n",
       "    </tr>\n",
       "    <tr>\n",
       "      <th>Interstate Compact Parole</th>\n",
       "      <td>1</td>\n",
       "    </tr>\n",
       "    <tr>\n",
       "      <th>Parole</th>\n",
       "      <td>6986</td>\n",
       "    </tr>\n",
       "    <tr>\n",
       "      <th>Parole Granted</th>\n",
       "      <td>2883</td>\n",
       "    </tr>\n",
       "    <tr>\n",
       "      <th>Paroled to Detainer - INS</th>\n",
       "      <td>81</td>\n",
       "    </tr>\n",
       "    <tr>\n",
       "      <th>Paroled to Detainer - Iowa</th>\n",
       "      <td>41</td>\n",
       "    </tr>\n",
       "    <tr>\n",
       "      <th>Paroled to Detainer - Out of State</th>\n",
       "      <td>56</td>\n",
       "    </tr>\n",
       "    <tr>\n",
       "      <th>Paroled to Detainer - U.S. Marshall</th>\n",
       "      <td>35</td>\n",
       "    </tr>\n",
       "    <tr>\n",
       "      <th>Paroled w/Immediate Discharge</th>\n",
       "      <td>204</td>\n",
       "    </tr>\n",
       "    <tr>\n",
       "      <th>Released to Special Sentence</th>\n",
       "      <td>172</td>\n",
       "    </tr>\n",
       "    <tr>\n",
       "      <th>Special Sentence</th>\n",
       "      <td>347</td>\n",
       "    </tr>\n",
       "  </tbody>\n",
       "</table>\n",
       "</div>"
      ],
      "text/plain": [
       "                                    Recidivism\n",
       "                                          size\n",
       "Release Type                                  \n",
       "Discharged - Expiration of Sentence       1215\n",
       "Discharged – End of Sentence              5039\n",
       "Interstate Compact Parole                    1\n",
       "Parole                                    6986\n",
       "Parole Granted                            2883\n",
       "Paroled to Detainer - INS                   81\n",
       "Paroled to Detainer - Iowa                  41\n",
       "Paroled to Detainer - Out of State          56\n",
       "Paroled to Detainer - U.S. Marshall         35\n",
       "Paroled w/Immediate Discharge              204\n",
       "Released to Special Sentence               172\n",
       "Special Sentence                           347"
      ]
     },
     "execution_count": 23,
     "metadata": {},
     "output_type": "execute_result"
    }
   ],
   "source": [
    "df.groupby(['Release Type']).agg({'Recidivism':[np.size]})"
   ]
  },
  {
   "cell_type": "code",
   "execution_count": 93,
   "metadata": {
    "collapsed": true
   },
   "outputs": [],
   "source": [
    "# Group Release Type\n",
    "def classify_release_type(x):\n",
    "    if x == 'Discharged - Expiration of Sentence' or x=='Discharged – End of Sentence':\n",
    "        return 'Discharged'\n",
    "    elif x == 'Special Sentence' or x=='Released to Special Sentence' :\n",
    "        return 'Special Sentence'\n",
    "    else:\n",
    "        return 'Paroled'\n",
    "\n"
   ]
  },
  {
   "cell_type": "code",
   "execution_count": 94,
   "metadata": {
    "collapsed": false
   },
   "outputs": [
    {
     "name": "stderr",
     "output_type": "stream",
     "text": [
      "/Users/matanefron/anaconda/lib/python2.7/site-packages/ipykernel/__main__.py:2: SettingWithCopyWarning: \n",
      "A value is trying to be set on a copy of a slice from a DataFrame.\n",
      "Try using .loc[row_indexer,col_indexer] = value instead\n",
      "\n",
      "See the caveats in the documentation: http://pandas.pydata.org/pandas-docs/stable/indexing.html#indexing-view-versus-copy\n",
      "  from ipykernel import kernelapp as app\n",
      "/Users/matanefron/anaconda/lib/python2.7/site-packages/ipykernel/__main__.py:3: SettingWithCopyWarning: \n",
      "A value is trying to be set on a copy of a slice from a DataFrame.\n",
      "Try using .loc[row_indexer,col_indexer] = value instead\n",
      "\n",
      "See the caveats in the documentation: http://pandas.pydata.org/pandas-docs/stable/indexing.html#indexing-view-versus-copy\n",
      "  app.launch_new_instance()\n"
     ]
    }
   ],
   "source": [
    "df['Release Type2'] = df['Release Type'].map(classify_release_type)\n",
    "df_rec_y['Release Type2'] = df_rec_y['Release Type'].map(classify_release_type)\n",
    "df_rec_n['Release Type2'] = df_rec_n['Release Type'].map(classify_release_type)"
   ]
  },
  {
   "cell_type": "code",
   "execution_count": 26,
   "metadata": {
    "collapsed": false
   },
   "outputs": [
    {
     "data": {
      "text/html": [
       "<div>\n",
       "<table border=\"1\" class=\"dataframe\">\n",
       "  <thead>\n",
       "    <tr>\n",
       "      <th></th>\n",
       "      <th>Recidivism</th>\n",
       "    </tr>\n",
       "    <tr>\n",
       "      <th></th>\n",
       "      <th>size</th>\n",
       "    </tr>\n",
       "    <tr>\n",
       "      <th>Release Type2</th>\n",
       "      <th></th>\n",
       "    </tr>\n",
       "  </thead>\n",
       "  <tbody>\n",
       "    <tr>\n",
       "      <th>Discharged</th>\n",
       "      <td>6254</td>\n",
       "    </tr>\n",
       "    <tr>\n",
       "      <th>Paroled</th>\n",
       "      <td>10287</td>\n",
       "    </tr>\n",
       "    <tr>\n",
       "      <th>Special Sentence</th>\n",
       "      <td>519</td>\n",
       "    </tr>\n",
       "  </tbody>\n",
       "</table>\n",
       "</div>"
      ],
      "text/plain": [
       "                 Recidivism\n",
       "                       size\n",
       "Release Type2              \n",
       "Discharged             6254\n",
       "Paroled               10287\n",
       "Special Sentence        519"
      ]
     },
     "execution_count": 26,
     "metadata": {},
     "output_type": "execute_result"
    }
   ],
   "source": [
    "df.groupby(['Release Type2']).agg({'Recidivism':[np.size]})"
   ]
  },
  {
   "cell_type": "code",
   "execution_count": 27,
   "metadata": {
    "collapsed": false
   },
   "outputs": [
    {
     "name": "stdout",
     "output_type": "stream",
     "text": [
      "Axes(0.125,0.125;0.775x0.755)\n",
      "% Recidivism by release type\n",
      "Release Type2\n",
      "Discharged          25.0%\n",
      "Paroled             35.0%\n",
      "Special Sentence    53.0%\n",
      "Name: Recidivism, dtype: object\n"
     ]
    },
    {
     "data": {
      "image/png": "[encoded data removed]",
      "text/plain": [
       "<matplotlib.figure.Figure at 0x1110eccd0>"
      ]
     },
     "metadata": {},
     "output_type": "display_data"
    }
   ],
   "source": [
    "# Recidivism by Release Type \n",
    "sns.set(font_scale=1)  \n",
    "fig, ax = plt.subplots()\n",
    "\n",
    "print sns.countplot(x=\"Release Type2\",hue=\"Recidivism\", data=df, palette=\"Greens_d\");\n",
    "\n",
    "print \"% Recidivism by release type\" \n",
    "print np.round(100*(pd.to_numeric(df_rec_y.groupby('Release Type2')['Recidivism'].count(),errors='coerce')\n",
    "                    /df.groupby('Release Type2')['Recidivism'].count())).astype(str) + \"%\"\n"
   ]
  },
  {
   "cell_type": "code",
   "execution_count": 28,
   "metadata": {
    "collapsed": false
   },
   "outputs": [
    {
     "name": "stdout",
     "output_type": "stream",
     "text": [
      "Recidivism by Offense type X Race\n"
     ]
    },
    {
     "data": {
      "image/png": "[encoded data removed]",
      "text/plain": [
       "<matplotlib.figure.Figure at 0x110ebc250>"
      ]
     },
     "metadata": {},
     "output_type": "display_data"
    }
   ],
   "source": [
    "print \"Recidivism by Offense type X Race\"\n",
    "\n",
    "sns.factorplot(\n",
    "    col= 'Release Type2',\n",
    "    x='Race',\n",
    "    hue = 'Recidivism',\n",
    "     data=df,\n",
    "    kind='count',\n",
    ")\n",
    "\n",
    "plt.show()\n",
    "\n"
   ]
  },
  {
   "cell_type": "code",
   "execution_count": 29,
   "metadata": {
    "collapsed": false
   },
   "outputs": [],
   "source": [
    "cols_to_transform = df[['Race','Age At Release ','Sex','Release Type2','Convicting Offense Type',\n",
    "                        'Convicting Offense Subtype','Convicting Offense Classification','Main Supervising District']]"
   ]
  },
  {
   "cell_type": "code",
   "execution_count": 30,
   "metadata": {
    "collapsed": false
   },
   "outputs": [
    {
     "data": {
      "text/html": [
       "<div>\n",
       "<table border=\"1\" class=\"dataframe\">\n",
       "  <thead>\n",
       "    <tr style=\"text-align: right;\">\n",
       "      <th></th>\n",
       "      <th>Race</th>\n",
       "      <th>Age At Release</th>\n",
       "      <th>Sex</th>\n",
       "      <th>Release Type2</th>\n",
       "      <th>Convicting Offense Type</th>\n",
       "      <th>Convicting Offense Subtype</th>\n",
       "      <th>Convicting Offense Classification</th>\n",
       "      <th>Main Supervising District</th>\n",
       "    </tr>\n",
       "  </thead>\n",
       "  <tbody>\n",
       "    <tr>\n",
       "      <th>0</th>\n",
       "      <td>white</td>\n",
       "      <td>Under 25</td>\n",
       "      <td>M</td>\n",
       "      <td>Paroled</td>\n",
       "      <td>Violent</td>\n",
       "      <td>Assault</td>\n",
       "      <td>D Felony</td>\n",
       "      <td>4JD</td>\n",
       "    </tr>\n",
       "    <tr>\n",
       "      <th>1</th>\n",
       "      <td>white</td>\n",
       "      <td>55 and Older</td>\n",
       "      <td>M</td>\n",
       "      <td>Paroled</td>\n",
       "      <td>Public Order</td>\n",
       "      <td>OWI</td>\n",
       "      <td>D Felony</td>\n",
       "      <td>7JD</td>\n",
       "    </tr>\n",
       "    <tr>\n",
       "      <th>2</th>\n",
       "      <td>white</td>\n",
       "      <td>25-34</td>\n",
       "      <td>M</td>\n",
       "      <td>Paroled</td>\n",
       "      <td>Property</td>\n",
       "      <td>Burglary</td>\n",
       "      <td>D Felony</td>\n",
       "      <td>5JD</td>\n",
       "    </tr>\n",
       "    <tr>\n",
       "      <th>3</th>\n",
       "      <td>white</td>\n",
       "      <td>55 and Older</td>\n",
       "      <td>M</td>\n",
       "      <td>Paroled</td>\n",
       "      <td>Drug</td>\n",
       "      <td>Trafficking</td>\n",
       "      <td>C Felony</td>\n",
       "      <td>8JD</td>\n",
       "    </tr>\n",
       "    <tr>\n",
       "      <th>4</th>\n",
       "      <td>black</td>\n",
       "      <td>25-34</td>\n",
       "      <td>M</td>\n",
       "      <td>Paroled</td>\n",
       "      <td>Drug</td>\n",
       "      <td>Trafficking</td>\n",
       "      <td>D Felony</td>\n",
       "      <td>3JD</td>\n",
       "    </tr>\n",
       "  </tbody>\n",
       "</table>\n",
       "</div>"
      ],
      "text/plain": [
       "    Race Age At Release  Sex Release Type2 Convicting Offense Type  \\\n",
       "0  white        Under 25   M       Paroled                 Violent   \n",
       "1  white    55 and Older   M       Paroled            Public Order   \n",
       "2  white           25-34   M       Paroled                Property   \n",
       "3  white    55 and Older   M       Paroled                    Drug   \n",
       "4  black           25-34   M       Paroled                    Drug   \n",
       "\n",
       "  Convicting Offense Subtype Convicting Offense Classification  \\\n",
       "0                    Assault                          D Felony   \n",
       "1                        OWI                          D Felony   \n",
       "2                   Burglary                          D Felony   \n",
       "3                Trafficking                          C Felony   \n",
       "4                Trafficking                          D Felony   \n",
       "\n",
       "  Main Supervising District  \n",
       "0                       4JD  \n",
       "1                       7JD  \n",
       "2                       5JD  \n",
       "3                       8JD  \n",
       "4                       3JD  "
      ]
     },
     "execution_count": 30,
     "metadata": {},
     "output_type": "execute_result"
    }
   ],
   "source": [
    "cols_to_transform.head()"
   ]
  },
  {
   "cell_type": "code",
   "execution_count": 31,
   "metadata": {
    "collapsed": true
   },
   "outputs": [],
   "source": [
    "y = df['Recidivism'].values"
   ]
  },
  {
   "cell_type": "code",
   "execution_count": 32,
   "metadata": {
    "collapsed": false
   },
   "outputs": [
    {
     "data": {
      "text/html": [
       "<div>\n",
       "<table border=\"1\" class=\"dataframe\">\n",
       "  <thead>\n",
       "    <tr style=\"text-align: right;\">\n",
       "      <th></th>\n",
       "      <th>Race_Hispanic</th>\n",
       "      <th>Race_black</th>\n",
       "      <th>Race_other</th>\n",
       "      <th>Race_white</th>\n",
       "      <th>Age At Release _25-34</th>\n",
       "      <th>Age At Release _35-44</th>\n",
       "      <th>Age At Release _45-54</th>\n",
       "      <th>Age At Release _55 and Older</th>\n",
       "      <th>Age At Release _Under 25</th>\n",
       "      <th>Sex_F</th>\n",
       "      <th>...</th>\n",
       "      <th>Main Supervising District_1JD</th>\n",
       "      <th>Main Supervising District_2JD</th>\n",
       "      <th>Main Supervising District_3JD</th>\n",
       "      <th>Main Supervising District_4JD</th>\n",
       "      <th>Main Supervising District_5JD</th>\n",
       "      <th>Main Supervising District_6JD</th>\n",
       "      <th>Main Supervising District_7JD</th>\n",
       "      <th>Main Supervising District_8JD</th>\n",
       "      <th>Main Supervising District_ISC</th>\n",
       "      <th>Main Supervising District_Interstate Compact</th>\n",
       "    </tr>\n",
       "  </thead>\n",
       "  <tbody>\n",
       "    <tr>\n",
       "      <th>0</th>\n",
       "      <td>0</td>\n",
       "      <td>0</td>\n",
       "      <td>0</td>\n",
       "      <td>1</td>\n",
       "      <td>0</td>\n",
       "      <td>0</td>\n",
       "      <td>0</td>\n",
       "      <td>0</td>\n",
       "      <td>1</td>\n",
       "      <td>0</td>\n",
       "      <td>...</td>\n",
       "      <td>0</td>\n",
       "      <td>0</td>\n",
       "      <td>0</td>\n",
       "      <td>1</td>\n",
       "      <td>0</td>\n",
       "      <td>0</td>\n",
       "      <td>0</td>\n",
       "      <td>0</td>\n",
       "      <td>0</td>\n",
       "      <td>0</td>\n",
       "    </tr>\n",
       "    <tr>\n",
       "      <th>1</th>\n",
       "      <td>0</td>\n",
       "      <td>0</td>\n",
       "      <td>0</td>\n",
       "      <td>1</td>\n",
       "      <td>0</td>\n",
       "      <td>0</td>\n",
       "      <td>0</td>\n",
       "      <td>1</td>\n",
       "      <td>0</td>\n",
       "      <td>0</td>\n",
       "      <td>...</td>\n",
       "      <td>0</td>\n",
       "      <td>0</td>\n",
       "      <td>0</td>\n",
       "      <td>0</td>\n",
       "      <td>0</td>\n",
       "      <td>0</td>\n",
       "      <td>1</td>\n",
       "      <td>0</td>\n",
       "      <td>0</td>\n",
       "      <td>0</td>\n",
       "    </tr>\n",
       "    <tr>\n",
       "      <th>2</th>\n",
       "      <td>0</td>\n",
       "      <td>0</td>\n",
       "      <td>0</td>\n",
       "      <td>1</td>\n",
       "      <td>1</td>\n",
       "      <td>0</td>\n",
       "      <td>0</td>\n",
       "      <td>0</td>\n",
       "      <td>0</td>\n",
       "      <td>0</td>\n",
       "      <td>...</td>\n",
       "      <td>0</td>\n",
       "      <td>0</td>\n",
       "      <td>0</td>\n",
       "      <td>0</td>\n",
       "      <td>1</td>\n",
       "      <td>0</td>\n",
       "      <td>0</td>\n",
       "      <td>0</td>\n",
       "      <td>0</td>\n",
       "      <td>0</td>\n",
       "    </tr>\n",
       "    <tr>\n",
       "      <th>3</th>\n",
       "      <td>0</td>\n",
       "      <td>0</td>\n",
       "      <td>0</td>\n",
       "      <td>1</td>\n",
       "      <td>0</td>\n",
       "      <td>0</td>\n",
       "      <td>0</td>\n",
       "      <td>1</td>\n",
       "      <td>0</td>\n",
       "      <td>0</td>\n",
       "      <td>...</td>\n",
       "      <td>0</td>\n",
       "      <td>0</td>\n",
       "      <td>0</td>\n",
       "      <td>0</td>\n",
       "      <td>0</td>\n",
       "      <td>0</td>\n",
       "      <td>0</td>\n",
       "      <td>1</td>\n",
       "      <td>0</td>\n",
       "      <td>0</td>\n",
       "    </tr>\n",
       "    <tr>\n",
       "      <th>4</th>\n",
       "      <td>0</td>\n",
       "      <td>1</td>\n",
       "      <td>0</td>\n",
       "      <td>0</td>\n",
       "      <td>1</td>\n",
       "      <td>0</td>\n",
       "      <td>0</td>\n",
       "      <td>0</td>\n",
       "      <td>0</td>\n",
       "      <td>0</td>\n",
       "      <td>...</td>\n",
       "      <td>0</td>\n",
       "      <td>0</td>\n",
       "      <td>1</td>\n",
       "      <td>0</td>\n",
       "      <td>0</td>\n",
       "      <td>0</td>\n",
       "      <td>0</td>\n",
       "      <td>0</td>\n",
       "      <td>0</td>\n",
       "      <td>0</td>\n",
       "    </tr>\n",
       "  </tbody>\n",
       "</table>\n",
       "<p>5 rows × 69 columns</p>\n",
       "</div>"
      ],
      "text/plain": [
       "   Race_Hispanic  Race_black  Race_other  Race_white  Age At Release _25-34  \\\n",
       "0              0           0           0           1                      0   \n",
       "1              0           0           0           1                      0   \n",
       "2              0           0           0           1                      1   \n",
       "3              0           0           0           1                      0   \n",
       "4              0           1           0           0                      1   \n",
       "\n",
       "   Age At Release _35-44  Age At Release _45-54  Age At Release _55 and Older  \\\n",
       "0                      0                      0                             0   \n",
       "1                      0                      0                             1   \n",
       "2                      0                      0                             0   \n",
       "3                      0                      0                             1   \n",
       "4                      0                      0                             0   \n",
       "\n",
       "   Age At Release _Under 25  Sex_F  \\\n",
       "0                         1      0   \n",
       "1                         0      0   \n",
       "2                         0      0   \n",
       "3                         0      0   \n",
       "4                         0      0   \n",
       "\n",
       "                       ...                       \\\n",
       "0                      ...                        \n",
       "1                      ...                        \n",
       "2                      ...                        \n",
       "3                      ...                        \n",
       "4                      ...                        \n",
       "\n",
       "   Main Supervising District_1JD  Main Supervising District_2JD  \\\n",
       "0                              0                              0   \n",
       "1                              0                              0   \n",
       "2                              0                              0   \n",
       "3                              0                              0   \n",
       "4                              0                              0   \n",
       "\n",
       "   Main Supervising District_3JD  Main Supervising District_4JD  \\\n",
       "0                              0                              1   \n",
       "1                              0                              0   \n",
       "2                              0                              0   \n",
       "3                              0                              0   \n",
       "4                              1                              0   \n",
       "\n",
       "   Main Supervising District_5JD  Main Supervising District_6JD  \\\n",
       "0                              0                              0   \n",
       "1                              0                              0   \n",
       "2                              1                              0   \n",
       "3                              0                              0   \n",
       "4                              0                              0   \n",
       "\n",
       "   Main Supervising District_7JD  Main Supervising District_8JD  \\\n",
       "0                              0                              0   \n",
       "1                              1                              0   \n",
       "2                              0                              0   \n",
       "3                              0                              1   \n",
       "4                              0                              0   \n",
       "\n",
       "   Main Supervising District_ISC  Main Supervising District_Interstate Compact  \n",
       "0                              0                                             0  \n",
       "1                              0                                             0  \n",
       "2                              0                                             0  \n",
       "3                              0                                             0  \n",
       "4                              0                                             0  \n",
       "\n",
       "[5 rows x 69 columns]"
      ]
     },
     "execution_count": 32,
     "metadata": {},
     "output_type": "execute_result"
    }
   ],
   "source": [
    "X = pd.get_dummies(cols_to_transform)\n",
    "X.head()"
   ]
  },
  {
   "cell_type": "code",
   "execution_count": 35,
   "metadata": {
    "collapsed": false
   },
   "outputs": [
    {
     "name": "stdout",
     "output_type": "stream",
     "text": [
      "(4265, 69) (12795, 69)\n",
      "(4265,) (12795,)\n"
     ]
    }
   ],
   "source": [
    "from sklearn.cross_validation import train_test_split\n",
    "\n",
    "trainX, testX, trainY, testY = train_test_split(X, y, train_size = .25)\n",
    "print trainX.shape, testX.shape\n",
    "print trainY.shape, testY.shape"
   ]
  },
  {
   "cell_type": "markdown",
   "metadata": {},
   "source": [
    "# random forest model"
   ]
  },
  {
   "cell_type": "code",
   "execution_count": 165,
   "metadata": {
    "collapsed": false
   },
   "outputs": [],
   "source": [
    "##Need to add Gridserach\n",
    "from time import time\n",
    "from scipy.stats import randint as sp_randint\n",
    "\n",
    "from sklearn.model_selection import GridSearchCV\n",
    "from sklearn.ensemble import RandomForestClassifier\n",
    "\n",
    "model_rf = RandomForestClassifier(n_estimators = 20)"
   ]
  },
  {
   "cell_type": "code",
   "execution_count": 166,
   "metadata": {
    "collapsed": false
   },
   "outputs": [
    {
     "data": {
      "text/plain": [
       "RandomForestClassifier(bootstrap=True, class_weight=None, criterion='gini',\n",
       "            max_depth=None, max_features='auto', max_leaf_nodes=None,\n",
       "            min_impurity_split=1e-07, min_samples_leaf=1,\n",
       "            min_samples_split=2, min_weight_fraction_leaf=0.0,\n",
       "            n_estimators=20, n_jobs=1, oob_score=False, random_state=None,\n",
       "            verbose=0, warm_start=False)"
      ]
     },
     "execution_count": 166,
     "metadata": {},
     "output_type": "execute_result"
    }
   ],
   "source": [
    "# No optimization\n",
    "model_rf.fit(trainX,trainY)"
   ]
  },
  {
   "cell_type": "code",
   "execution_count": 167,
   "metadata": {
    "collapsed": false,
    "scrolled": true
   },
   "outputs": [],
   "source": [
    "y_predict = model_rf.predict(testX)"
   ]
  },
  {
   "cell_type": "code",
   "execution_count": 168,
   "metadata": {
    "collapsed": false
   },
   "outputs": [
    {
     "name": "stdout",
     "output_type": "stream",
     "text": [
      "[[7055 1710]\n",
      " [2827 1203]]\n",
      "             precision    recall  f1-score   support\n",
      "\n",
      "          0       0.71      0.80      0.76      8765\n",
      "          1       0.41      0.30      0.35      4030\n",
      "\n",
      "avg / total       0.62      0.65      0.63     12795\n",
      "\n"
     ]
    }
   ],
   "source": [
    "from sklearn.metrics import confusion_matrix, classification_report\n",
    "\n",
    "cnf_mtx = confusion_matrix(testY, y_predict)\n",
    "print cnf_mtx\n",
    "\n",
    "print classification_report(testY, y_predict)"
   ]
  },
  {
   "cell_type": "code",
   "execution_count": 182,
   "metadata": {
    "collapsed": false,
    "scrolled": true
   },
   "outputs": [
    {
     "data": {
      "image/png": "[encoded data removed]",
      "text/plain": [
       "<matplotlib.figure.Figure at 0x110888d50>"
      ]
     },
     "metadata": {},
     "output_type": "display_data"
    }
   ],
   "source": [
    "%matplotlib inline\n",
    "\n",
    "# This is all that's needed for scikit-plot\n",
    "import matplotlib.pyplot as plt\n",
    "from scikitplot import classifier_factory\n",
    "\n",
    "classifier_factory(model_rf)\n",
    "\n",
    "model_rf.plot_roc_curve(X.as_matrix(), y, random_state=2)\n",
    "plt.show()"
   ]
  },
  {
   "cell_type": "code",
   "execution_count": 242,
   "metadata": {
    "collapsed": false
   },
   "outputs": [
    {
     "data": {
      "text/html": [
       "<div>\n",
       "<table border=\"1\" class=\"dataframe\">\n",
       "  <thead>\n",
       "    <tr style=\"text-align: right;\">\n",
       "      <th></th>\n",
       "      <th>Features</th>\n",
       "      <th>Importance Score</th>\n",
       "    </tr>\n",
       "  </thead>\n",
       "  <tbody>\n",
       "    <tr>\n",
       "      <th>4</th>\n",
       "      <td>Age At Release _25-34</td>\n",
       "      <td>0.052455</td>\n",
       "    </tr>\n",
       "    <tr>\n",
       "      <th>3</th>\n",
       "      <td>Race_white</td>\n",
       "      <td>0.045675</td>\n",
       "    </tr>\n",
       "    <tr>\n",
       "      <th>5</th>\n",
       "      <td>Age At Release _35-44</td>\n",
       "      <td>0.044150</td>\n",
       "    </tr>\n",
       "    <tr>\n",
       "      <th>49</th>\n",
       "      <td>Convicting Offense Classification_D Felony</td>\n",
       "      <td>0.041816</td>\n",
       "    </tr>\n",
       "    <tr>\n",
       "      <th>1</th>\n",
       "      <td>Race_black</td>\n",
       "      <td>0.039407</td>\n",
       "    </tr>\n",
       "    <tr>\n",
       "      <th>48</th>\n",
       "      <td>Convicting Offense Classification_C Felony</td>\n",
       "      <td>0.037508</td>\n",
       "    </tr>\n",
       "    <tr>\n",
       "      <th>8</th>\n",
       "      <td>Age At Release _Under 25</td>\n",
       "      <td>0.036266</td>\n",
       "    </tr>\n",
       "    <tr>\n",
       "      <th>6</th>\n",
       "      <td>Age At Release _45-54</td>\n",
       "      <td>0.036195</td>\n",
       "    </tr>\n",
       "    <tr>\n",
       "      <th>63</th>\n",
       "      <td>Main Supervising District_5JD</td>\n",
       "      <td>0.033250</td>\n",
       "    </tr>\n",
       "    <tr>\n",
       "      <th>46</th>\n",
       "      <td>Convicting Offense Classification_Aggravated M...</td>\n",
       "      <td>0.029103</td>\n",
       "    </tr>\n",
       "  </tbody>\n",
       "</table>\n",
       "</div>"
      ],
      "text/plain": [
       "                                             Features  Importance Score\n",
       "4                               Age At Release _25-34          0.052455\n",
       "3                                          Race_white          0.045675\n",
       "5                               Age At Release _35-44          0.044150\n",
       "49         Convicting Offense Classification_D Felony          0.041816\n",
       "1                                          Race_black          0.039407\n",
       "48         Convicting Offense Classification_C Felony          0.037508\n",
       "8                            Age At Release _Under 25          0.036266\n",
       "6                               Age At Release _45-54          0.036195\n",
       "63                      Main Supervising District_5JD          0.033250\n",
       "46  Convicting Offense Classification_Aggravated M...          0.029103"
      ]
     },
     "execution_count": 242,
     "metadata": {},
     "output_type": "execute_result"
    }
   ],
   "source": [
    "features = X.columns\n",
    "feature_importances = model_rf.feature_importances_\n",
    "\n",
    "features_df = pd.DataFrame({'Features': features, 'Importance Score': feature_importances})\n",
    "features_df.sort_values(by='Importance Score', inplace=True, ascending=False)\n",
    "\n",
    "features_df.head(10)"
   ]
  },
  {
   "cell_type": "markdown",
   "metadata": {},
   "source": [
    "### Improving Model with Gridsearch"
   ]
  },
  {
   "cell_type": "code",
   "execution_count": 170,
   "metadata": {
    "collapsed": true
   },
   "outputs": [],
   "source": [
    "def report(results, n_top=10):\n",
    "    for i in range(1, n_top + 1):\n",
    "        candidates = np.flatnonzero(results['rank_test_score'] == i)\n",
    "        for candidate in candidates:\n",
    "            print(\"Model with rank: {0}\".format(i))\n",
    "            print(\"Mean validation score: {0:.3f} (std: {1:.3f})\".format(\n",
    "                  results['mean_test_score'][candidate],\n",
    "                  results['std_test_score'][candidate]))\n",
    "            print(\"Parameters: {0}\".format(results['params'][candidate]))\n",
    "            print(\"\")\n"
   ]
  },
  {
   "cell_type": "code",
   "execution_count": 174,
   "metadata": {
    "collapsed": false,
    "scrolled": true
   },
   "outputs": [
    {
     "name": "stdout",
     "output_type": "stream",
     "text": [
      "GridSearchCV took 78.45 seconds for 144 candidate parameter settings.\n",
      "Model with rank: 1\n",
      "Mean validation score: 0.684 (std: 0.002)\n",
      "Parameters: {'warm_start': False, 'bootstrap': True, 'min_samples_leaf': 10, 'criterion': 'gini', 'min_samples_split': 2, 'max_depth': None}\n",
      "\n",
      "Model with rank: 2\n",
      "Mean validation score: 0.683 (std: 0.001)\n",
      "Parameters: {'warm_start': False, 'bootstrap': True, 'min_samples_leaf': 10, 'criterion': 'entropy', 'min_samples_split': 10, 'max_depth': None}\n",
      "\n",
      "Model with rank: 3\n",
      "Mean validation score: 0.681 (std: 0.006)\n",
      "Parameters: {'warm_start': True, 'bootstrap': False, 'min_samples_leaf': 10, 'criterion': 'entropy', 'min_samples_split': 10, 'max_depth': None}\n",
      "\n",
      "Model with rank: 4\n",
      "Mean validation score: 0.681 (std: 0.014)\n",
      "Parameters: {'warm_start': False, 'bootstrap': True, 'min_samples_leaf': 3, 'criterion': 'entropy', 'min_samples_split': 10, 'max_depth': None}\n",
      "\n",
      "Model with rank: 5\n",
      "Mean validation score: 0.680 (std: 0.004)\n",
      "Parameters: {'warm_start': True, 'bootstrap': True, 'min_samples_leaf': 3, 'criterion': 'entropy', 'min_samples_split': 2, 'max_depth': 10}\n",
      "\n",
      "Model with rank: 5\n",
      "Mean validation score: 0.680 (std: 0.011)\n",
      "Parameters: {'warm_start': True, 'bootstrap': True, 'min_samples_leaf': 3, 'criterion': 'entropy', 'min_samples_split': 2, 'max_depth': None}\n",
      "\n",
      "Model with rank: 7\n",
      "Mean validation score: 0.680 (std: 0.002)\n",
      "Parameters: {'warm_start': False, 'bootstrap': True, 'min_samples_leaf': 10, 'criterion': 'entropy', 'min_samples_split': 2, 'max_depth': None}\n",
      "\n",
      "Model with rank: 8\n",
      "Mean validation score: 0.680 (std: 0.003)\n",
      "Parameters: {'warm_start': False, 'bootstrap': True, 'min_samples_leaf': 10, 'criterion': 'gini', 'min_samples_split': 5, 'max_depth': None}\n",
      "\n",
      "Model with rank: 8\n",
      "Mean validation score: 0.680 (std: 0.005)\n",
      "Parameters: {'warm_start': False, 'bootstrap': False, 'min_samples_leaf': 10, 'criterion': 'gini', 'min_samples_split': 5, 'max_depth': None}\n",
      "\n",
      "Model with rank: 10\n",
      "Mean validation score: 0.679 (std: 0.006)\n",
      "Parameters: {'warm_start': False, 'bootstrap': True, 'min_samples_leaf': 1, 'criterion': 'gini', 'min_samples_split': 10, 'max_depth': 10}\n",
      "\n",
      "Model with rank: 10\n",
      "Mean validation score: 0.679 (std: 0.002)\n",
      "Parameters: {'warm_start': False, 'bootstrap': True, 'min_samples_leaf': 10, 'criterion': 'gini', 'min_samples_split': 10, 'max_depth': 10}\n",
      "\n",
      "Model with rank: 10\n",
      "Mean validation score: 0.679 (std: 0.007)\n",
      "Parameters: {'warm_start': False, 'bootstrap': True, 'min_samples_leaf': 3, 'criterion': 'gini', 'min_samples_split': 2, 'max_depth': None}\n",
      "\n",
      "Model with rank: 10\n",
      "Mean validation score: 0.679 (std: 0.008)\n",
      "Parameters: {'warm_start': True, 'bootstrap': False, 'min_samples_leaf': 10, 'criterion': 'gini', 'min_samples_split': 10, 'max_depth': None}\n",
      "\n"
     ]
    }
   ],
   "source": [
    "param_grid = {\"max_depth\": [10, None],\n",
    "              \"min_samples_split\": [2, 5, 10],\n",
    "              \"min_samples_leaf\": [1, 3, 10],\n",
    "              \"bootstrap\": [True, False],\n",
    "              \"warm_start\": [True, False],\n",
    "              \"criterion\": [\"gini\", \"entropy\"]}\n",
    "\n",
    "\n",
    "gs = GridSearchCV(model_rf, param_grid=param_grid)\n",
    "start = time()\n",
    "gs.fit(trainX,trainY)\n",
    "\n",
    "print(\"GridSearchCV took %.2f seconds for %d candidate parameter settings.\"\n",
    "      % (time() - start, len(gs.cv_results_['params'])))\n",
    "report(gs.cv_results_)"
   ]
  },
  {
   "cell_type": "code",
   "execution_count": 176,
   "metadata": {
    "collapsed": false
   },
   "outputs": [
    {
     "data": {
      "text/plain": [
       "RandomForestClassifier(bootstrap=True, class_weight=None, criterion='gini',\n",
       "            max_depth=None, max_features='auto', max_leaf_nodes=None,\n",
       "            min_impurity_split=1e-07, min_samples_leaf=10,\n",
       "            min_samples_split=2, min_weight_fraction_leaf=0.0,\n",
       "            n_estimators=20, n_jobs=1, oob_score=False, random_state=None,\n",
       "            verbose=0, warm_start=False)"
      ]
     },
     "execution_count": 176,
     "metadata": {},
     "output_type": "execute_result"
    }
   ],
   "source": [
    "gs.best_estimator_.fit(trainX,trainY)"
   ]
  },
  {
   "cell_type": "code",
   "execution_count": 188,
   "metadata": {
    "collapsed": false
   },
   "outputs": [],
   "source": [
    "y_predict_gs =gs.best_estimator_.predict(testX)"
   ]
  },
  {
   "cell_type": "code",
   "execution_count": 189,
   "metadata": {
    "collapsed": false
   },
   "outputs": [
    {
     "name": "stdout",
     "output_type": "stream",
     "text": [
      "[[8582  183]\n",
      " [3779  251]]\n",
      "             precision    recall  f1-score   support\n",
      "\n",
      "          0       0.69      0.98      0.81      8765\n",
      "          1       0.58      0.06      0.11      4030\n",
      "\n",
      "avg / total       0.66      0.69      0.59     12795\n",
      "\n"
     ]
    }
   ],
   "source": [
    "#Confusion matrix\n",
    "\n",
    "from sklearn.metrics import confusion_matrix, classification_report\n",
    "\n",
    "cnf_mtx = confusion_matrix(testY, y_predict_gs)\n",
    "print cnf_mtx\n",
    "\n",
    "print classification_report(testY, y_predict_gs)"
   ]
  },
  {
   "cell_type": "code",
   "execution_count": 190,
   "metadata": {
    "collapsed": false,
    "scrolled": true
   },
   "outputs": [
    {
     "data": {
      "image/png": "[encoded data removed]",
      "text/plain": [
       "<matplotlib.figure.Figure at 0x111690cd0>"
      ]
     },
     "metadata": {},
     "output_type": "display_data"
    }
   ],
   "source": [
    "%matplotlib inline\n",
    "\n",
    "# This is all that's needed for scikit-plot\n",
    "import matplotlib.pyplot as plt\n",
    "from scikitplot import classifier_factory\n",
    "\n",
    "classifier_factory(gs.best_estimator_)\n",
    "\n",
    "gs.best_estimator_.plot_roc_curve(X.as_matrix(), y, random_state=2)\n",
    "plt.show()"
   ]
  },
  {
   "cell_type": "code",
   "execution_count": 243,
   "metadata": {
    "collapsed": false
   },
   "outputs": [
    {
     "data": {
      "text/html": [
       "<div>\n",
       "<table border=\"1\" class=\"dataframe\">\n",
       "  <thead>\n",
       "    <tr style=\"text-align: right;\">\n",
       "      <th></th>\n",
       "      <th>Features</th>\n",
       "      <th>Importance Score</th>\n",
       "    </tr>\n",
       "  </thead>\n",
       "  <tbody>\n",
       "    <tr>\n",
       "      <th>11</th>\n",
       "      <td>Release Type2_Discharged</td>\n",
       "      <td>0.059389</td>\n",
       "    </tr>\n",
       "    <tr>\n",
       "      <th>63</th>\n",
       "      <td>Main Supervising District_5JD</td>\n",
       "      <td>0.053875</td>\n",
       "    </tr>\n",
       "    <tr>\n",
       "      <th>8</th>\n",
       "      <td>Age At Release _Under 25</td>\n",
       "      <td>0.049747</td>\n",
       "    </tr>\n",
       "    <tr>\n",
       "      <th>18</th>\n",
       "      <td>Convicting Offense Type_Violent</td>\n",
       "      <td>0.048802</td>\n",
       "    </tr>\n",
       "    <tr>\n",
       "      <th>1</th>\n",
       "      <td>Race_black</td>\n",
       "      <td>0.041065</td>\n",
       "    </tr>\n",
       "    <tr>\n",
       "      <th>0</th>\n",
       "      <td>Race_Hispanic</td>\n",
       "      <td>0.038896</td>\n",
       "    </tr>\n",
       "    <tr>\n",
       "      <th>13</th>\n",
       "      <td>Release Type2_Special Sentence</td>\n",
       "      <td>0.036570</td>\n",
       "    </tr>\n",
       "    <tr>\n",
       "      <th>4</th>\n",
       "      <td>Age At Release _25-34</td>\n",
       "      <td>0.034898</td>\n",
       "    </tr>\n",
       "    <tr>\n",
       "      <th>12</th>\n",
       "      <td>Release Type2_Paroled</td>\n",
       "      <td>0.032760</td>\n",
       "    </tr>\n",
       "    <tr>\n",
       "      <th>10</th>\n",
       "      <td>Sex_M</td>\n",
       "      <td>0.030599</td>\n",
       "    </tr>\n",
       "  </tbody>\n",
       "</table>\n",
       "</div>"
      ],
      "text/plain": [
       "                           Features  Importance Score\n",
       "11         Release Type2_Discharged          0.059389\n",
       "63    Main Supervising District_5JD          0.053875\n",
       "8          Age At Release _Under 25          0.049747\n",
       "18  Convicting Offense Type_Violent          0.048802\n",
       "1                        Race_black          0.041065\n",
       "0                     Race_Hispanic          0.038896\n",
       "13   Release Type2_Special Sentence          0.036570\n",
       "4             Age At Release _25-34          0.034898\n",
       "12            Release Type2_Paroled          0.032760\n",
       "10                            Sex_M          0.030599"
      ]
     },
     "execution_count": 243,
     "metadata": {},
     "output_type": "execute_result"
    }
   ],
   "source": [
    "features = X.columns\n",
    "feature_importances = gs.best_estimator_.feature_importances_\n",
    "\n",
    "features_df = pd.DataFrame({'Features': features, 'Importance Score': feature_importances})\n",
    "features_df.sort_values(by='Importance Score', inplace=True, ascending=False)\n",
    "\n",
    "features_df.head(10)"
   ]
  },
  {
   "cell_type": "markdown",
   "metadata": {},
   "source": [
    "# Gradient Boosting"
   ]
  },
  {
   "cell_type": "code",
   "execution_count": 199,
   "metadata": {
    "collapsed": true
   },
   "outputs": [],
   "source": [
    "from sklearn.ensemble import GradientBoostingClassifier\n",
    "\n",
    "model_gb = GradientBoostingClassifier(n_estimators = 20)"
   ]
  },
  {
   "cell_type": "code",
   "execution_count": 58,
   "metadata": {
    "collapsed": false,
    "scrolled": true
   },
   "outputs": [
    {
     "data": {
      "text/plain": [
       "GradientBoostingClassifier(criterion='friedman_mse', init=None,\n",
       "              learning_rate=0.1, loss='deviance', max_depth=3,\n",
       "              max_features=None, max_leaf_nodes=None,\n",
       "              min_impurity_split=1e-07, min_samples_leaf=1,\n",
       "              min_samples_split=2, min_weight_fraction_leaf=0.0,\n",
       "              n_estimators=100, presort='auto', random_state=None,\n",
       "              subsample=1.0, verbose=0, warm_start=False)"
      ]
     },
     "execution_count": 58,
     "metadata": {},
     "output_type": "execute_result"
    }
   ],
   "source": [
    "model_gb.fit(trainX,trainY)"
   ]
  },
  {
   "cell_type": "code",
   "execution_count": 249,
   "metadata": {
    "collapsed": false
   },
   "outputs": [
    {
     "name": "stdout",
     "output_type": "stream",
     "text": [
      "GridSearchCV took 206.89 seconds for 72 candidate parameter settings.\n",
      "Model with rank: 1\n",
      "Mean validation score: 0.681 (std: 0.002)\n",
      "Parameters: {'min_samples_split': 2, 'loss': 'deviance', 'warm_start': True, 'max_depth': 3, 'min_samples_leaf': 3}\n",
      "\n",
      "Model with rank: 1\n",
      "Mean validation score: 0.681 (std: 0.002)\n",
      "Parameters: {'min_samples_split': 2, 'loss': 'deviance', 'warm_start': False, 'max_depth': 3, 'min_samples_leaf': 3}\n",
      "\n",
      "Model with rank: 1\n",
      "Mean validation score: 0.681 (std: 0.002)\n",
      "Parameters: {'min_samples_split': 5, 'loss': 'deviance', 'warm_start': True, 'max_depth': 3, 'min_samples_leaf': 3}\n",
      "\n",
      "Model with rank: 1\n",
      "Mean validation score: 0.681 (std: 0.002)\n",
      "Parameters: {'min_samples_split': 5, 'loss': 'deviance', 'warm_start': False, 'max_depth': 3, 'min_samples_leaf': 3}\n",
      "\n",
      "Model with rank: 5\n",
      "Mean validation score: 0.680 (std: 0.002)\n",
      "Parameters: {'min_samples_split': 10, 'loss': 'deviance', 'warm_start': True, 'max_depth': 3, 'min_samples_leaf': 3}\n",
      "\n",
      "Model with rank: 5\n",
      "Mean validation score: 0.680 (std: 0.002)\n",
      "Parameters: {'min_samples_split': 10, 'loss': 'deviance', 'warm_start': False, 'max_depth': 3, 'min_samples_leaf': 3}\n",
      "\n",
      "Model with rank: 5\n",
      "Mean validation score: 0.680 (std: 0.001)\n",
      "Parameters: {'min_samples_split': 2, 'loss': 'exponential', 'warm_start': False, 'max_depth': 3, 'min_samples_leaf': 10}\n",
      "\n",
      "Model with rank: 5\n",
      "Mean validation score: 0.680 (std: 0.001)\n",
      "Parameters: {'min_samples_split': 5, 'loss': 'exponential', 'warm_start': False, 'max_depth': 3, 'min_samples_leaf': 10}\n",
      "\n",
      "Model with rank: 9\n",
      "Mean validation score: 0.680 (std: 0.001)\n",
      "Parameters: {'min_samples_split': 2, 'loss': 'exponential', 'warm_start': True, 'max_depth': 3, 'min_samples_leaf': 1}\n",
      "\n",
      "Model with rank: 9\n",
      "Mean validation score: 0.680 (std: 0.001)\n",
      "Parameters: {'min_samples_split': 2, 'loss': 'exponential', 'warm_start': False, 'max_depth': 3, 'min_samples_leaf': 1}\n",
      "\n",
      "Model with rank: 9\n",
      "Mean validation score: 0.680 (std: 0.002)\n",
      "Parameters: {'min_samples_split': 2, 'loss': 'exponential', 'warm_start': True, 'max_depth': 3, 'min_samples_leaf': 3}\n",
      "\n",
      "Model with rank: 9\n",
      "Mean validation score: 0.680 (std: 0.002)\n",
      "Parameters: {'min_samples_split': 2, 'loss': 'exponential', 'warm_start': False, 'max_depth': 3, 'min_samples_leaf': 3}\n",
      "\n",
      "Model with rank: 9\n",
      "Mean validation score: 0.680 (std: 0.002)\n",
      "Parameters: {'min_samples_split': 5, 'loss': 'exponential', 'warm_start': True, 'max_depth': 3, 'min_samples_leaf': 3}\n",
      "\n",
      "Model with rank: 9\n",
      "Mean validation score: 0.680 (std: 0.002)\n",
      "Parameters: {'min_samples_split': 5, 'loss': 'exponential', 'warm_start': False, 'max_depth': 3, 'min_samples_leaf': 3}\n",
      "\n",
      "Model with rank: 9\n",
      "Mean validation score: 0.680 (std: 0.002)\n",
      "Parameters: {'min_samples_split': 10, 'loss': 'exponential', 'warm_start': True, 'max_depth': 3, 'min_samples_leaf': 3}\n",
      "\n",
      "Model with rank: 9\n",
      "Mean validation score: 0.680 (std: 0.002)\n",
      "Parameters: {'min_samples_split': 10, 'loss': 'exponential', 'warm_start': False, 'max_depth': 3, 'min_samples_leaf': 3}\n",
      "\n",
      "Model with rank: 9\n",
      "Mean validation score: 0.680 (std: 0.001)\n",
      "Parameters: {'min_samples_split': 2, 'loss': 'exponential', 'warm_start': True, 'max_depth': 3, 'min_samples_leaf': 10}\n",
      "\n",
      "Model with rank: 9\n",
      "Mean validation score: 0.680 (std: 0.001)\n",
      "Parameters: {'min_samples_split': 5, 'loss': 'exponential', 'warm_start': True, 'max_depth': 3, 'min_samples_leaf': 10}\n",
      "\n",
      "Model with rank: 9\n",
      "Mean validation score: 0.680 (std: 0.001)\n",
      "Parameters: {'min_samples_split': 10, 'loss': 'exponential', 'warm_start': True, 'max_depth': 3, 'min_samples_leaf': 10}\n",
      "\n",
      "Model with rank: 9\n",
      "Mean validation score: 0.680 (std: 0.001)\n",
      "Parameters: {'min_samples_split': 10, 'loss': 'exponential', 'warm_start': False, 'max_depth': 3, 'min_samples_leaf': 10}\n",
      "\n"
     ]
    }
   ],
   "source": [
    "param_grid = {\"loss\":['deviance', 'exponential'],\n",
    "              \"max_depth\": [3, None],\n",
    "              \"min_samples_split\": [2, 5, 10],\n",
    "              \"min_samples_leaf\": [1, 3, 10],\n",
    "              \"warm_start\": [True, False]}\n",
    "\n",
    "\n",
    "gs_gb = GridSearchCV(model_gb, param_grid=param_grid)\n",
    "start = time()\n",
    "gs_gb.fit(trainX,trainY)\n",
    "\n",
    "print(\"GridSearchCV took %.2f seconds for %d candidate parameter settings.\"\n",
    "      % (time() - start, len(gs_gb.cv_results_['params'])))\n",
    "report(gs_gb.cv_results_)"
   ]
  },
  {
   "cell_type": "code",
   "execution_count": 210,
   "metadata": {
    "collapsed": true
   },
   "outputs": [],
   "source": [
    "y_predict_gb = gs_gb.best_estimator_.predict(testX)"
   ]
  },
  {
   "cell_type": "code",
   "execution_count": 248,
   "metadata": {
    "collapsed": false
   },
   "outputs": [
    {
     "name": "stdout",
     "output_type": "stream",
     "text": [
      "[[8745   20]\n",
      " [3980   50]]\n",
      "             precision    recall  f1-score   support\n",
      "\n",
      "          0       0.69      1.00      0.81      8765\n",
      "          1       0.71      0.01      0.02      4030\n",
      "\n",
      "avg / total       0.70      0.69      0.57     12795\n",
      "\n"
     ]
    }
   ],
   "source": [
    "from sklearn.metrics import confusion_matrix, classification_report\n",
    "\n",
    "cnf_mtx = confusion_matrix(testY, y_predict_gb)\n",
    "print cnf_mtx\n",
    "\n",
    "print classification_report(testY, y_predict_gb)"
   ]
  },
  {
   "cell_type": "code",
   "execution_count": 245,
   "metadata": {
    "collapsed": false
   },
   "outputs": [
    {
     "data": {
      "image/png": "[encoded data removed]",
      "text/plain": [
       "<matplotlib.figure.Figure at 0x11137fdd0>"
      ]
     },
     "metadata": {},
     "output_type": "display_data"
    }
   ],
   "source": [
    "%matplotlib inline\n",
    "\n",
    "# This is all that's needed for scikit-plot\n",
    "import matplotlib.pyplot as plt\n",
    "from scikitplot import classifier_factory\n",
    "\n",
    "classifier_factory(gs_gb.best_estimator_)\n",
    "\n",
    "gs_gb.best_estimator_.plot_roc_curve(X.as_matrix(), y, random_state=2)\n",
    "plt.show()"
   ]
  },
  {
   "cell_type": "code",
   "execution_count": 247,
   "metadata": {
    "collapsed": false
   },
   "outputs": [
    {
     "data": {
      "text/html": [
       "<div>\n",
       "<table border=\"1\" class=\"dataframe\">\n",
       "  <thead>\n",
       "    <tr style=\"text-align: right;\">\n",
       "      <th></th>\n",
       "      <th>Features</th>\n",
       "      <th>Importance Score</th>\n",
       "    </tr>\n",
       "  </thead>\n",
       "  <tbody>\n",
       "    <tr>\n",
       "      <th>11</th>\n",
       "      <td>Release Type2_Discharged</td>\n",
       "      <td>0.127524</td>\n",
       "    </tr>\n",
       "    <tr>\n",
       "      <th>7</th>\n",
       "      <td>Age At Release _55 and Older</td>\n",
       "      <td>0.101060</td>\n",
       "    </tr>\n",
       "    <tr>\n",
       "      <th>68</th>\n",
       "      <td>Main Supervising District_Interstate Compact</td>\n",
       "      <td>0.071985</td>\n",
       "    </tr>\n",
       "    <tr>\n",
       "      <th>67</th>\n",
       "      <td>Main Supervising District_ISC</td>\n",
       "      <td>0.068222</td>\n",
       "    </tr>\n",
       "    <tr>\n",
       "      <th>13</th>\n",
       "      <td>Release Type2_Special Sentence</td>\n",
       "      <td>0.060005</td>\n",
       "    </tr>\n",
       "    <tr>\n",
       "      <th>8</th>\n",
       "      <td>Age At Release _Under 25</td>\n",
       "      <td>0.059497</td>\n",
       "    </tr>\n",
       "    <tr>\n",
       "      <th>63</th>\n",
       "      <td>Main Supervising District_5JD</td>\n",
       "      <td>0.059060</td>\n",
       "    </tr>\n",
       "    <tr>\n",
       "      <th>18</th>\n",
       "      <td>Convicting Offense Type_Violent</td>\n",
       "      <td>0.058059</td>\n",
       "    </tr>\n",
       "    <tr>\n",
       "      <th>0</th>\n",
       "      <td>Race_Hispanic</td>\n",
       "      <td>0.047739</td>\n",
       "    </tr>\n",
       "    <tr>\n",
       "      <th>29</th>\n",
       "      <td>Convicting Offense Subtype_OWI</td>\n",
       "      <td>0.034906</td>\n",
       "    </tr>\n",
       "  </tbody>\n",
       "</table>\n",
       "</div>"
      ],
      "text/plain": [
       "                                        Features  Importance Score\n",
       "11                      Release Type2_Discharged          0.127524\n",
       "7                   Age At Release _55 and Older          0.101060\n",
       "68  Main Supervising District_Interstate Compact          0.071985\n",
       "67                 Main Supervising District_ISC          0.068222\n",
       "13                Release Type2_Special Sentence          0.060005\n",
       "8                       Age At Release _Under 25          0.059497\n",
       "63                 Main Supervising District_5JD          0.059060\n",
       "18               Convicting Offense Type_Violent          0.058059\n",
       "0                                  Race_Hispanic          0.047739\n",
       "29                Convicting Offense Subtype_OWI          0.034906"
      ]
     },
     "execution_count": 247,
     "metadata": {},
     "output_type": "execute_result"
    }
   ],
   "source": [
    "features = X.columns\n",
    "feature_importances = gs_gb.best_estimator_.feature_importances_\n",
    "\n",
    "features_df = pd.DataFrame({'Features': features, 'Importance Score': feature_importances})\n",
    "features_df.sort_values(by='Importance Score', inplace=True, ascending=False)\n",
    "\n",
    "features_df.head(10)"
   ]
  }
 ],
 "metadata": {
  "kernelspec": {
   "display_name": "Python 2",
   "language": "python",
   "name": "python2"
  },
  "language_info": {
   "codemirror_mode": {
    "name": "ipython",
    "version": 2
   },
   "file_extension": ".py",
   "mimetype": "text/x-python",
   "name": "python",
   "nbconvert_exporter": "python",
   "pygments_lexer": "ipython2",
   "version": "2.7.13"
  }
 },
 "nbformat": 4,
 "nbformat_minor": 2
}
